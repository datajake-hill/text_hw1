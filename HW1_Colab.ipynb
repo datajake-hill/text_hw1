{
  "nbformat": 4,
  "nbformat_minor": 0,
  "metadata": {
    "kernelspec": {
      "display_name": "p36workshop",
      "language": "python",
      "name": "p36workshop"
    },
    "language_info": {
      "codemirror_mode": {
        "name": "ipython",
        "version": 3
      },
      "file_extension": ".py",
      "mimetype": "text/x-python",
      "name": "python",
      "nbconvert_exporter": "python",
      "pygments_lexer": "ipython3",
      "version": "3.6.8"
    },
    "colab": {
      "name": "Edmunds Web Scraper.ipynb",
      "provenance": []
    }
  },
  "cells": [
    {
      "cell_type": "code",
      "metadata": {
        "id": "I-TpcM2cwZ4O",
        "colab_type": "code",
        "colab": {
          "base_uri": "https://localhost:8080/",
          "height": 52
        },
        "outputId": "84370d4e-3de9-4b1b-ceb5-f244354b0899"
      },
      "source": [
        "!pip install selenium\n",
        "from selenium import webdriver\n",
        "import pandas as pd"
      ],
      "execution_count": 7,
      "outputs": [
        {
          "output_type": "stream",
          "text": [
            "Requirement already satisfied: selenium in /usr/local/lib/python3.6/dist-packages (3.141.0)\n",
            "Requirement already satisfied: urllib3 in /usr/local/lib/python3.6/dist-packages (from selenium) (1.24.3)\n"
          ],
          "name": "stdout"
        }
      ]
    },
    {
      "cell_type": "code",
      "metadata": {
        "id": "5GKgAF1t0aPc",
        "colab_type": "code",
        "colab": {
          "base_uri": "https://localhost:8080/",
          "height": 390
        },
        "outputId": "b132203a-ce68-444c-e3fd-5838dc16e0e9"
      },
      "source": [
        "!pip install selenium\n",
        "!apt-get update # to update ubuntu to correctly run apt install\n",
        "!apt install chromium-chromedriver\n",
        "!cp /usr/lib/chromium-browser/chromedriver /usr/bin\n",
        "\n",
        "import sys\n",
        "sys.path.insert(0,'/usr/lib/chromium-browser/chromedriver')\n",
        "from selenium import webdriver\n",
        "chrome_options = webdriver.ChromeOptions()\n",
        "chrome_options.add_argument('--headless')\n",
        "chrome_options.add_argument('--no-sandbox')\n",
        "chrome_options.add_argument('--disable-dev-shm-usage')"
      ],
      "execution_count": 62,
      "outputs": [
        {
          "output_type": "stream",
          "text": [
            "Requirement already satisfied: selenium in /usr/local/lib/python3.6/dist-packages (3.141.0)\n",
            "Requirement already satisfied: urllib3 in /usr/local/lib/python3.6/dist-packages (from selenium) (1.24.3)\n",
            "Hit:1 http://ppa.launchpad.net/graphics-drivers/ppa/ubuntu bionic InRelease\n",
            "Hit:2 http://archive.ubuntu.com/ubuntu bionic InRelease\n",
            "Hit:3 http://ppa.launchpad.net/marutter/c2d4u3.5/ubuntu bionic InRelease\n",
            "Get:4 http://archive.ubuntu.com/ubuntu bionic-updates InRelease [88.7 kB]\n",
            "Hit:5 https://cloud.r-project.org/bin/linux/ubuntu bionic-cran35/ InRelease\n",
            "Get:6 http://archive.ubuntu.com/ubuntu bionic-backports InRelease [74.6 kB]\n",
            "Get:7 http://security.ubuntu.com/ubuntu bionic-security InRelease [88.7 kB]\n",
            "Ign:8 https://developer.download.nvidia.com/compute/cuda/repos/ubuntu1804/x86_64  InRelease\n",
            "Ign:9 https://developer.download.nvidia.com/compute/machine-learning/repos/ubuntu1804/x86_64  InRelease\n",
            "Hit:10 https://developer.download.nvidia.com/compute/cuda/repos/ubuntu1804/x86_64  Release\n",
            "Hit:11 https://developer.download.nvidia.com/compute/machine-learning/repos/ubuntu1804/x86_64  Release\n",
            "Fetched 252 kB in 2s (120 kB/s)\n",
            "Reading package lists... Done\n",
            "Reading package lists... Done\n",
            "Building dependency tree       \n",
            "Reading state information... Done\n",
            "chromium-chromedriver is already the newest version (77.0.3865.90-0ubuntu0.18.04.1).\n",
            "0 upgraded, 0 newly installed, 0 to remove and 37 not upgraded.\n",
            "cp: '/usr/lib/chromium-browser/chromedriver' and '/usr/bin/chromedriver' are the same file\n"
          ],
          "name": "stdout"
        }
      ]
    },
    {
      "cell_type": "code",
      "metadata": {
        "id": "FoBE3OIe4To0",
        "colab_type": "code",
        "colab": {
          "base_uri": "https://localhost:8080/",
          "height": 52
        },
        "outputId": "4aa66054-2638-43b9-dec1-1413a8619288"
      },
      "source": [
        "driver = webdriver.Chrome('chromedriver',chrome_options=chrome_options)\n",
        "driver.get(\"https://forums.edmunds.com/discussion/2864/general/x/entry-level-luxury-performance-sedans/\")"
      ],
      "execution_count": 31,
      "outputs": [
        {
          "output_type": "stream",
          "text": [
            "/usr/local/lib/python3.6/dist-packages/ipykernel_launcher.py:1: DeprecationWarning: use options instead of chrome_options\n",
            "  \"\"\"Entry point for launching an IPython kernel.\n"
          ],
          "name": "stderr"
        }
      ]
    },
    {
      "cell_type": "code",
      "metadata": {
        "id": "lLaWrgo9wZ4k",
        "colab_type": "code",
        "colab": {
          "base_uri": "https://localhost:8080/",
          "height": 1000
        },
        "outputId": "91e30bf5-8d2e-4f00-96ca-ff68475691b2"
      },
      "source": [
        "driver = webdriver.Chrome('chromedriver',chrome_options=chrome_options)\n",
        "driver.get(\"https://forums.edmunds.com/discussion/2864/general/x/entry-level-luxury-performance-sedans/\")\n",
        "# p434\n",
        "df = pd.DataFrame(columns = ['Date','user_id','comments'])\n",
        "page = 434\n",
        "while page > 434-100:\n",
        "# for i in range(page):\n",
        "  \n",
        "    driver.get(\"https://forums.edmunds.com/discussion/2864/general/x/entry-level-luxury-performance-sedans/p\" + str(page))\n",
        "    driver.implicitly_wait(3)\n",
        "    \n",
        "    comments = pd.DataFrame(columns = ['Date','user_id','comments']) \n",
        "    ids = driver.find_elements_by_xpath(\"//*[contains(@id,'Comment_')]\")\n",
        "    comment_ids = []\n",
        "    \n",
        "    for i in ids:\n",
        "        comment_ids.append(i.get_attribute('id'))\n",
        "\n",
        "    for x in comment_ids:\n",
        "        #Extract dates from for each user on a page\n",
        "        user_date = driver.find_elements_by_xpath('//*[@id=\"' + x +'\"]/div/div[2]/div[2]/span[1]/a/time')[0]\n",
        "        date = user_date.get_attribute('title')\n",
        "\n",
        "        #Extract user ids from each user on a page\n",
        "        userid_element = driver.find_elements_by_xpath('//*[@id=\"' + x +'\"]/div/div[2]/div[1]/span[1]/a[2]')[0]\n",
        "        userid = userid_element.text\n",
        "\n",
        "        #Extract Message for each user on a page\n",
        "        user_message = driver.find_elements_by_xpath('//*[@id=\"' + x +'\"]/div/div[3]/div/div[1]')[0]\n",
        "        comment = user_message.text\n",
        "\n",
        "        #Adding date, userid and comment for each user in a dataframe    \n",
        "        comments.loc[len(comments)] = [date,userid,comment]\n",
        "        \n",
        "    df = df.append(comments,ignore_index=True)\n",
        "    print(\"Page scraped:\", page)\n",
        "    page -= 1\n",
        "driver.close()"
      ],
      "execution_count": 64,
      "outputs": [
        {
          "output_type": "stream",
          "text": [
            "/usr/local/lib/python3.6/dist-packages/ipykernel_launcher.py:1: DeprecationWarning: use options instead of chrome_options\n",
            "  \"\"\"Entry point for launching an IPython kernel.\n"
          ],
          "name": "stderr"
        },
        {
          "output_type": "stream",
          "text": [
            "Page scraped: 434\n",
            "Page scraped: 433\n",
            "Page scraped: 432\n",
            "Page scraped: 431\n",
            "Page scraped: 430\n",
            "Page scraped: 429\n",
            "Page scraped: 428\n",
            "Page scraped: 427\n",
            "Page scraped: 426\n",
            "Page scraped: 425\n",
            "Page scraped: 424\n",
            "Page scraped: 423\n",
            "Page scraped: 422\n",
            "Page scraped: 421\n",
            "Page scraped: 420\n",
            "Page scraped: 419\n",
            "Page scraped: 418\n",
            "Page scraped: 417\n",
            "Page scraped: 416\n",
            "Page scraped: 415\n",
            "Page scraped: 414\n",
            "Page scraped: 413\n",
            "Page scraped: 412\n",
            "Page scraped: 411\n",
            "Page scraped: 410\n",
            "Page scraped: 409\n",
            "Page scraped: 408\n",
            "Page scraped: 407\n",
            "Page scraped: 406\n",
            "Page scraped: 405\n",
            "Page scraped: 404\n",
            "Page scraped: 403\n",
            "Page scraped: 402\n",
            "Page scraped: 401\n",
            "Page scraped: 400\n",
            "Page scraped: 399\n",
            "Page scraped: 398\n",
            "Page scraped: 397\n",
            "Page scraped: 396\n",
            "Page scraped: 395\n",
            "Page scraped: 394\n",
            "Page scraped: 393\n",
            "Page scraped: 392\n",
            "Page scraped: 391\n",
            "Page scraped: 390\n",
            "Page scraped: 389\n",
            "Page scraped: 388\n",
            "Page scraped: 387\n",
            "Page scraped: 386\n",
            "Page scraped: 385\n",
            "Page scraped: 384\n",
            "Page scraped: 383\n",
            "Page scraped: 382\n",
            "Page scraped: 381\n",
            "Page scraped: 380\n",
            "Page scraped: 379\n",
            "Page scraped: 378\n",
            "Page scraped: 377\n",
            "Page scraped: 376\n",
            "Page scraped: 375\n",
            "Page scraped: 374\n",
            "Page scraped: 373\n",
            "Page scraped: 372\n",
            "Page scraped: 371\n",
            "Page scraped: 370\n",
            "Page scraped: 369\n",
            "Page scraped: 368\n",
            "Page scraped: 367\n",
            "Page scraped: 366\n",
            "Page scraped: 365\n",
            "Page scraped: 364\n",
            "Page scraped: 363\n",
            "Page scraped: 362\n",
            "Page scraped: 361\n",
            "Page scraped: 360\n",
            "Page scraped: 359\n",
            "Page scraped: 358\n",
            "Page scraped: 357\n",
            "Page scraped: 356\n",
            "Page scraped: 355\n",
            "Page scraped: 354\n",
            "Page scraped: 353\n",
            "Page scraped: 352\n",
            "Page scraped: 351\n",
            "Page scraped: 350\n",
            "Page scraped: 349\n",
            "Page scraped: 348\n",
            "Page scraped: 347\n",
            "Page scraped: 346\n",
            "Page scraped: 345\n",
            "Page scraped: 344\n",
            "Page scraped: 343\n",
            "Page scraped: 342\n",
            "Page scraped: 341\n",
            "Page scraped: 340\n",
            "Page scraped: 339\n",
            "Page scraped: 338\n",
            "Page scraped: 337\n",
            "Page scraped: 336\n",
            "Page scraped: 335\n"
          ],
          "name": "stdout"
        }
      ]
    },
    {
      "cell_type": "code",
      "metadata": {
        "id": "gqFvtk8SwZ4r",
        "colab_type": "code",
        "colab": {
          "base_uri": "https://localhost:8080/",
          "height": 194
        },
        "outputId": "c6335c86-d131-424c-b909-be7377669b91"
      },
      "source": [
        "df.head()"
      ],
      "execution_count": 66,
      "outputs": [
        {
          "output_type": "execute_result",
          "data": {
            "text/html": [
              "<div>\n",
              "<style scoped>\n",
              "    .dataframe tbody tr th:only-of-type {\n",
              "        vertical-align: middle;\n",
              "    }\n",
              "\n",
              "    .dataframe tbody tr th {\n",
              "        vertical-align: top;\n",
              "    }\n",
              "\n",
              "    .dataframe thead th {\n",
              "        text-align: right;\n",
              "    }\n",
              "</style>\n",
              "<table border=\"1\" class=\"dataframe\">\n",
              "  <thead>\n",
              "    <tr style=\"text-align: right;\">\n",
              "      <th></th>\n",
              "      <th>Date</th>\n",
              "      <th>user_id</th>\n",
              "      <th>comments</th>\n",
              "    </tr>\n",
              "  </thead>\n",
              "  <tbody>\n",
              "    <tr>\n",
              "      <th>0</th>\n",
              "      <td>August 18, 2019 8:19PM</td>\n",
              "      <td>andres3</td>\n",
              "      <td>benjaminh said:\\nLuxury VW Arteon hatchback se...</td>\n",
              "    </tr>\n",
              "    <tr>\n",
              "      <th>1</th>\n",
              "      <td>August 18, 2019 8:45PM</td>\n",
              "      <td>dino001</td>\n",
              "      <td>It just made my next car list. Looks very much...</td>\n",
              "    </tr>\n",
              "    <tr>\n",
              "      <th>2</th>\n",
              "      <td>August 18, 2019 8:55PM</td>\n",
              "      <td>Michaell</td>\n",
              "      <td>dino001 said:\\nIt just made my next car list. ...</td>\n",
              "    </tr>\n",
              "    <tr>\n",
              "      <th>3</th>\n",
              "      <td>August 18, 2019 9:09PM</td>\n",
              "      <td>dino001</td>\n",
              "      <td>You mean 2019 is the last year? That’s a bumme...</td>\n",
              "    </tr>\n",
              "    <tr>\n",
              "      <th>4</th>\n",
              "      <td>August 18, 2019 10:17PM</td>\n",
              "      <td>sda</td>\n",
              "      <td>dino001 said:\\nYou mean 2019 is the last year?...</td>\n",
              "    </tr>\n",
              "  </tbody>\n",
              "</table>\n",
              "</div>"
            ],
            "text/plain": [
              "                      Date  ...                                           comments\n",
              "0   August 18, 2019 8:19PM  ...  benjaminh said:\\nLuxury VW Arteon hatchback se...\n",
              "1   August 18, 2019 8:45PM  ...  It just made my next car list. Looks very much...\n",
              "2   August 18, 2019 8:55PM  ...  dino001 said:\\nIt just made my next car list. ...\n",
              "3   August 18, 2019 9:09PM  ...  You mean 2019 is the last year? That’s a bumme...\n",
              "4  August 18, 2019 10:17PM  ...  dino001 said:\\nYou mean 2019 is the last year?...\n",
              "\n",
              "[5 rows x 3 columns]"
            ]
          },
          "metadata": {
            "tags": []
          },
          "execution_count": 66
        }
      ]
    },
    {
      "cell_type": "code",
      "metadata": {
        "id": "OKIseWm18GBb",
        "colab_type": "code",
        "colab": {}
      },
      "source": [
        "from google.colab import files\n",
        "df.to_csv('scraped_raw.csv') \n",
        "files.download('scraped_raw.csv')"
      ],
      "execution_count": 0,
      "outputs": []
    },
    {
      "cell_type": "code",
      "metadata": {
        "id": "enCgnLeDQHJh",
        "colab_type": "code",
        "colab": {
          "base_uri": "https://localhost:8080/",
          "height": 126
        },
        "outputId": "91946370-8679-4a92-ca98-40de4eb7fbb6"
      },
      "source": [
        "from google.colab import drive \n",
        "drive.mount('/content/gdrive')"
      ],
      "execution_count": 59,
      "outputs": [
        {
          "output_type": "stream",
          "text": [
            "Go to this URL in a browser: https://accounts.google.com/o/oauth2/auth?client_id=947318989803-6bn6qk8qdgf4n4g3pfee6491hc0brc4i.apps.googleusercontent.com&redirect_uri=urn%3Aietf%3Awg%3Aoauth%3A2.0%3Aoob&scope=email%20https%3A%2F%2Fwww.googleapis.com%2Fauth%2Fdocs.test%20https%3A%2F%2Fwww.googleapis.com%2Fauth%2Fdrive%20https%3A%2F%2Fwww.googleapis.com%2Fauth%2Fdrive.photos.readonly%20https%3A%2F%2Fwww.googleapis.com%2Fauth%2Fpeopleapi.readonly&response_type=code\n",
            "\n",
            "Enter your authorization code:\n",
            "··········\n",
            "Mounted at /content/gdrive\n"
          ],
          "name": "stdout"
        }
      ]
    },
    {
      "cell_type": "code",
      "metadata": {
        "id": "vYPGkgzOQQqT",
        "colab_type": "code",
        "colab": {}
      },
      "source": [
        "import pandas as pd \n",
        "models_df=pd.read_csv('gdrive/My Drive/Text_Analysis_HW1/models.csv')"
      ],
      "execution_count": 0,
      "outputs": []
    },
    {
      "cell_type": "code",
      "metadata": {
        "id": "m-sIH9VvTxgz",
        "colab_type": "code",
        "colab": {
          "base_uri": "https://localhost:8080/",
          "height": 194
        },
        "outputId": "1992a3eb-b989-4be6-a415-cb656673b316"
      },
      "source": [
        "models_df.head()"
      ],
      "execution_count": 65,
      "outputs": [
        {
          "output_type": "execute_result",
          "data": {
            "text/html": [
              "<div>\n",
              "<style scoped>\n",
              "    .dataframe tbody tr th:only-of-type {\n",
              "        vertical-align: middle;\n",
              "    }\n",
              "\n",
              "    .dataframe tbody tr th {\n",
              "        vertical-align: top;\n",
              "    }\n",
              "\n",
              "    .dataframe thead th {\n",
              "        text-align: right;\n",
              "    }\n",
              "</style>\n",
              "<table border=\"1\" class=\"dataframe\">\n",
              "  <thead>\n",
              "    <tr style=\"text-align: right;\">\n",
              "      <th></th>\n",
              "      <th>acura</th>\n",
              "      <th>integra</th>\n",
              "    </tr>\n",
              "  </thead>\n",
              "  <tbody>\n",
              "    <tr>\n",
              "      <th>0</th>\n",
              "      <td>acura</td>\n",
              "      <td>legend</td>\n",
              "    </tr>\n",
              "    <tr>\n",
              "      <th>1</th>\n",
              "      <td>acura</td>\n",
              "      <td>vigor</td>\n",
              "    </tr>\n",
              "    <tr>\n",
              "      <th>2</th>\n",
              "      <td>acura</td>\n",
              "      <td>rlx</td>\n",
              "    </tr>\n",
              "    <tr>\n",
              "      <th>3</th>\n",
              "      <td>acura</td>\n",
              "      <td>ilx</td>\n",
              "    </tr>\n",
              "    <tr>\n",
              "      <th>4</th>\n",
              "      <td>acura</td>\n",
              "      <td>mdx</td>\n",
              "    </tr>\n",
              "  </tbody>\n",
              "</table>\n",
              "</div>"
            ],
            "text/plain": [
              "   acura integra\n",
              "0  acura  legend\n",
              "1  acura   vigor\n",
              "2  acura     rlx\n",
              "3  acura     ilx\n",
              "4  acura     mdx"
            ]
          },
          "metadata": {
            "tags": []
          },
          "execution_count": 65
        }
      ]
    },
    {
      "cell_type": "code",
      "metadata": {
        "id": "ce8hbqm8U7rW",
        "colab_type": "code",
        "colab": {}
      },
      "source": [
        "#start cleaning and counting brand mentions\n",
        "import nltk\n",
        "\n"
      ],
      "execution_count": 0,
      "outputs": []
    },
    {
      "cell_type": "code",
      "metadata": {
        "id": "yAY_CnNNwZ4w",
        "colab_type": "code",
        "colab": {}
      },
      "source": [
        "df.to_csv('comments.csv')"
      ],
      "execution_count": 0,
      "outputs": []
    }
  ]
}