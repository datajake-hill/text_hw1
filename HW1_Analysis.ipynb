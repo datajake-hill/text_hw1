{
 "cells": [
  {
   "cell_type": "code",
   "execution_count": 40,
   "metadata": {},
   "outputs": [],
   "source": [
    "import numpy as np\n",
    "import nltk\n",
    "import pandas as pd\n",
    "import matplotlib.pyplot as plt"
   ]
  },
  {
   "cell_type": "code",
   "execution_count": 2,
   "metadata": {},
   "outputs": [],
   "source": [
    "df = pd.read_csv(\"scraped_raw_new.csv\")"
   ]
  },
  {
   "cell_type": "code",
   "execution_count": 3,
   "metadata": {},
   "outputs": [],
   "source": [
    "#TEST SET\n",
    "df_test = pd.read_csv(\"fake_comments.csv\", header=None, names = ['comment'])"
   ]
  },
  {
   "cell_type": "code",
   "execution_count": 4,
   "metadata": {},
   "outputs": [
    {
     "data": {
      "text/html": [
       "<div>\n",
       "<style scoped>\n",
       "    .dataframe tbody tr th:only-of-type {\n",
       "        vertical-align: middle;\n",
       "    }\n",
       "\n",
       "    .dataframe tbody tr th {\n",
       "        vertical-align: top;\n",
       "    }\n",
       "\n",
       "    .dataframe thead th {\n",
       "        text-align: right;\n",
       "    }\n",
       "</style>\n",
       "<table border=\"1\" class=\"dataframe\">\n",
       "  <thead>\n",
       "    <tr style=\"text-align: right;\">\n",
       "      <th></th>\n",
       "      <th>comment</th>\n",
       "    </tr>\n",
       "  </thead>\n",
       "  <tbody>\n",
       "    <tr>\n",
       "      <td>0</td>\n",
       "      <td>I just love my audi oh my god it's performance...</td>\n",
       "    </tr>\n",
       "    <tr>\n",
       "      <td>1</td>\n",
       "      <td>volkswagen shits on audi oh my god I hate bmw</td>\n",
       "    </tr>\n",
       "    <tr>\n",
       "      <td>2</td>\n",
       "      <td>if I have to drive this piece of shit bmw one ...</td>\n",
       "    </tr>\n",
       "    <tr>\n",
       "      <td>3</td>\n",
       "      <td>I'm a proud chevy man it's performance and sea...</td>\n",
       "    </tr>\n",
       "    <tr>\n",
       "      <td>4</td>\n",
       "      <td>The safety ratings in acura really suck but I ...</td>\n",
       "    </tr>\n",
       "  </tbody>\n",
       "</table>\n",
       "</div>"
      ],
      "text/plain": [
       "                                             comment\n",
       "0  I just love my audi oh my god it's performance...\n",
       "1      volkswagen shits on audi oh my god I hate bmw\n",
       "2  if I have to drive this piece of shit bmw one ...\n",
       "3  I'm a proud chevy man it's performance and sea...\n",
       "4  The safety ratings in acura really suck but I ..."
      ]
     },
     "execution_count": 4,
     "metadata": {},
     "output_type": "execute_result"
    }
   ],
   "source": [
    "#TEST\n",
    "df_test.head()"
   ]
  },
  {
   "cell_type": "code",
   "execution_count": 5,
   "metadata": {},
   "outputs": [
    {
     "data": {
      "text/plain": [
       "(5050, 4)"
      ]
     },
     "execution_count": 5,
     "metadata": {},
     "output_type": "execute_result"
    }
   ],
   "source": [
    "df.shape"
   ]
  },
  {
   "cell_type": "code",
   "execution_count": 6,
   "metadata": {},
   "outputs": [],
   "source": [
    "models_df = pd.read_csv(\"models.csv\", header = None, names = ['make', 'model'])"
   ]
  },
  {
   "cell_type": "code",
   "execution_count": 7,
   "metadata": {},
   "outputs": [
    {
     "data": {
      "text/html": [
       "<div>\n",
       "<style scoped>\n",
       "    .dataframe tbody tr th:only-of-type {\n",
       "        vertical-align: middle;\n",
       "    }\n",
       "\n",
       "    .dataframe tbody tr th {\n",
       "        vertical-align: top;\n",
       "    }\n",
       "\n",
       "    .dataframe thead th {\n",
       "        text-align: right;\n",
       "    }\n",
       "</style>\n",
       "<table border=\"1\" class=\"dataframe\">\n",
       "  <thead>\n",
       "    <tr style=\"text-align: right;\">\n",
       "      <th></th>\n",
       "      <th>make</th>\n",
       "      <th>model</th>\n",
       "    </tr>\n",
       "  </thead>\n",
       "  <tbody>\n",
       "    <tr>\n",
       "      <td>0</td>\n",
       "      <td>acura</td>\n",
       "      <td>integra</td>\n",
       "    </tr>\n",
       "    <tr>\n",
       "      <td>1</td>\n",
       "      <td>acura</td>\n",
       "      <td>legend</td>\n",
       "    </tr>\n",
       "    <tr>\n",
       "      <td>2</td>\n",
       "      <td>acura</td>\n",
       "      <td>vigor</td>\n",
       "    </tr>\n",
       "    <tr>\n",
       "      <td>3</td>\n",
       "      <td>acura</td>\n",
       "      <td>rlx</td>\n",
       "    </tr>\n",
       "    <tr>\n",
       "      <td>4</td>\n",
       "      <td>acura</td>\n",
       "      <td>ilx</td>\n",
       "    </tr>\n",
       "  </tbody>\n",
       "</table>\n",
       "</div>"
      ],
      "text/plain": [
       "    make    model\n",
       "0  acura  integra\n",
       "1  acura   legend\n",
       "2  acura    vigor\n",
       "3  acura      rlx\n",
       "4  acura      ilx"
      ]
     },
     "execution_count": 7,
     "metadata": {},
     "output_type": "execute_result"
    }
   ],
   "source": [
    "models_df.head()"
   ]
  },
  {
   "cell_type": "code",
   "execution_count": 8,
   "metadata": {},
   "outputs": [
    {
     "name": "stderr",
     "output_type": "stream",
     "text": [
      "[nltk_data] Downloading package stopwords to\n",
      "[nltk_data]     C:\\Users\\kevin\\AppData\\Roaming\\nltk_data...\n",
      "[nltk_data]   Package stopwords is already up-to-date!\n"
     ]
    }
   ],
   "source": [
    "nltk.download('stopwords')\n",
    "from nltk.corpus import stopwords\n",
    "stops = set(stopwords.words('english'))"
   ]
  },
  {
   "cell_type": "code",
   "execution_count": 9,
   "metadata": {},
   "outputs": [],
   "source": [
    "#remove stopwords\n",
    "from nltk.tokenize import word_tokenize\n",
    "from nltk.tokenize import RegexpTokenizer\n",
    "tokenizer = RegexpTokenizer(r'\\w+')\n",
    "def clean(s):\n",
    "    s = s.lower()\n",
    "    #s_token = word_tokenize(s)\n",
    "    s_token = tokenizer.tokenize(s)\n",
    "    s_filtered = [w for w in s_token if not w in stops]\n",
    "    return s_filtered"
   ]
  },
  {
   "cell_type": "code",
   "execution_count": 10,
   "metadata": {},
   "outputs": [],
   "source": [
    "df.dropna(inplace = True)\n",
    "df['comment_tokenized'] = df['comments'].apply(clean)"
   ]
  },
  {
   "cell_type": "code",
   "execution_count": 11,
   "metadata": {},
   "outputs": [],
   "source": [
    "#TEST\n",
    "df_test.dropna(inplace = True)\n",
    "df_test['comment_tokenized'] = df_test['comment'].apply(clean)"
   ]
  },
  {
   "cell_type": "code",
   "execution_count": 12,
   "metadata": {},
   "outputs": [],
   "source": [
    "models_dict = models_df.set_index('model')['make'].to_dict()"
   ]
  },
  {
   "cell_type": "code",
   "execution_count": 13,
   "metadata": {},
   "outputs": [],
   "source": [
    "def model_to_make(s):\n",
    "    for i in range(len(s)):\n",
    "        if s[i] in models_dict.keys():\n",
    "            s[i] = models_dict[s[i]]\n",
    "    return s"
   ]
  },
  {
   "cell_type": "code",
   "execution_count": 14,
   "metadata": {},
   "outputs": [],
   "source": [
    "df['comment_tokenized']=df['comment_tokenized'].apply(model_to_make)"
   ]
  },
  {
   "cell_type": "code",
   "execution_count": 15,
   "metadata": {},
   "outputs": [],
   "source": [
    "#TEST\n",
    "df_test['comment_tokenized']=df_test['comment_tokenized'].apply(model_to_make)"
   ]
  },
  {
   "cell_type": "code",
   "execution_count": 16,
   "metadata": {},
   "outputs": [],
   "source": [
    "from nltk.util import ngrams\n",
    "from collections import Counter\n",
    "\n",
    "def get_counts(s):\n",
    "    return Counter(s)"
   ]
  },
  {
   "cell_type": "code",
   "execution_count": 17,
   "metadata": {},
   "outputs": [],
   "source": [
    "df['word_counts'] = df['comment_tokenized'].apply(get_counts)"
   ]
  },
  {
   "cell_type": "code",
   "execution_count": 18,
   "metadata": {},
   "outputs": [],
   "source": [
    "#TEST\n",
    "df_test['word_counts'] = df_test['comment_tokenized'].apply(get_counts)"
   ]
  },
  {
   "cell_type": "code",
   "execution_count": 19,
   "metadata": {},
   "outputs": [],
   "source": [
    "makes_dict = {}\n",
    "for make in models_df['make'].unique():\n",
    "    makes_dict[make] = 0"
   ]
  },
  {
   "cell_type": "code",
   "execution_count": 20,
   "metadata": {},
   "outputs": [],
   "source": [
    "#TEST\n",
    "makes_dict_test = {}\n",
    "for make in models_df['make'].unique():\n",
    "    makes_dict_test[make] = 0"
   ]
  },
  {
   "cell_type": "code",
   "execution_count": 21,
   "metadata": {},
   "outputs": [],
   "source": [
    "def count_makes(s):\n",
    "    for key in s.keys():\n",
    "        if key in makes_dict:\n",
    "            makes_dict[key] += 1"
   ]
  },
  {
   "cell_type": "code",
   "execution_count": 22,
   "metadata": {},
   "outputs": [],
   "source": [
    "#TEST\n",
    "def count_makes_test(s):\n",
    "    for key in s.keys():\n",
    "        if key in makes_dict_test:\n",
    "            makes_dict_test[key] += 1"
   ]
  },
  {
   "cell_type": "code",
   "execution_count": 23,
   "metadata": {
    "scrolled": true
   },
   "outputs": [
    {
     "name": "stdout",
     "output_type": "stream",
     "text": [
      "{'acura': 588, 'audi': 460, 'bmw': 1385, 'buick': 29, 'cadillac': 112, 'chevrolet': 110, 'chrysler': 64, 'dodge': 59, 'ford': 143, 'honda': 461, 'hyundai': 117, 'infiniti': 417, 'kia': 24, 'lincoln': 56, 'mazda': 83, 'mercedes': 178, 'mercury': 5, 'mitsubishi': 23, 'nissan': 316, 'pontiac': 52, 'saturn': 12, 'subaru': 217, 'suzuki': 19, 'toyota': 330, 'volkswagen': 200, 'volvo': 138}\n"
     ]
    }
   ],
   "source": [
    "df['word_counts'].apply(count_makes)\n",
    "print(makes_dict)"
   ]
  },
  {
   "cell_type": "code",
   "execution_count": 24,
   "metadata": {},
   "outputs": [
    {
     "name": "stdout",
     "output_type": "stream",
     "text": [
      "{'acura': 1, 'audi': 5, 'bmw': 9, 'buick': 0, 'cadillac': 0, 'chevrolet': 4, 'chrysler': 0, 'dodge': 0, 'ford': 0, 'honda': 6, 'hyundai': 0, 'infiniti': 0, 'kia': 0, 'lincoln': 0, 'mazda': 0, 'mercedes': 1, 'mercury': 0, 'mitsubishi': 0, 'nissan': 0, 'pontiac': 0, 'saturn': 0, 'subaru': 3, 'suzuki': 0, 'toyota': 5, 'volkswagen': 1, 'volvo': 1}\n"
     ]
    }
   ],
   "source": [
    "#TEST\n",
    "df_test['word_counts'].apply(count_makes_test)\n",
    "print(makes_dict_test)"
   ]
  },
  {
   "cell_type": "markdown",
   "metadata": {},
   "source": [
    "## TOP 10 BRANDS"
   ]
  },
  {
   "cell_type": "code",
   "execution_count": 25,
   "metadata": {
    "scrolled": false
   },
   "outputs": [],
   "source": [
    "top_10 = sorted(makes_dict, key=makes_dict.get, reverse=True)[:10]"
   ]
  },
  {
   "cell_type": "code",
   "execution_count": 26,
   "metadata": {},
   "outputs": [],
   "source": [
    "#TEST\n",
    "top_10_test = sorted(makes_dict_test, key=makes_dict_test.get, reverse=True)[:10]"
   ]
  },
  {
   "cell_type": "code",
   "execution_count": 27,
   "metadata": {},
   "outputs": [
    {
     "data": {
      "text/plain": [
       "['bmw',\n",
       " 'acura',\n",
       " 'honda',\n",
       " 'audi',\n",
       " 'infiniti',\n",
       " 'toyota',\n",
       " 'nissan',\n",
       " 'subaru',\n",
       " 'volkswagen',\n",
       " 'mercedes']"
      ]
     },
     "execution_count": 27,
     "metadata": {},
     "output_type": "execute_result"
    }
   ],
   "source": [
    "top_10"
   ]
  },
  {
   "cell_type": "code",
   "execution_count": 28,
   "metadata": {},
   "outputs": [
    {
     "data": {
      "text/plain": [
       "['bmw',\n",
       " 'honda',\n",
       " 'audi',\n",
       " 'toyota',\n",
       " 'chevrolet',\n",
       " 'subaru',\n",
       " 'acura',\n",
       " 'mercedes',\n",
       " 'volkswagen',\n",
       " 'volvo']"
      ]
     },
     "execution_count": 28,
     "metadata": {},
     "output_type": "execute_result"
    }
   ],
   "source": [
    "# i need the counts of this is an array\n",
    "top_10_test"
   ]
  },
  {
   "cell_type": "code",
   "execution_count": 29,
   "metadata": {},
   "outputs": [],
   "source": [
    "top_10_num = sorted(np.fromiter(makes_dict.values(), dtype=float), reverse=True)[:10]"
   ]
  },
  {
   "cell_type": "code",
   "execution_count": 30,
   "metadata": {},
   "outputs": [],
   "source": [
    "#TEST\n",
    "top_10_num_test = sorted(np.fromiter(makes_dict_test.values(), dtype=float), reverse=True)[:10]"
   ]
  },
  {
   "cell_type": "markdown",
   "metadata": {},
   "source": [
    "### Calculate lifts"
   ]
  },
  {
   "cell_type": "code",
   "execution_count": 31,
   "metadata": {},
   "outputs": [],
   "source": [
    "brand_comentions = np.zeros((10, 10))\n",
    "\n",
    "def count_comentions(s):\n",
    "    for i in range(10):\n",
    "        for j in range(10):\n",
    "            if top_10[i] in s.keys() and top_10[j] in s.keys():\n",
    "                brand_comentions[i][j]+=1\n",
    "temp = df['word_counts'].apply(count_comentions)"
   ]
  },
  {
   "cell_type": "code",
   "execution_count": 32,
   "metadata": {},
   "outputs": [],
   "source": [
    "#TEST\n",
    "brand_comentions_test = np.zeros((10, 10))\n",
    "\n",
    "def count_comentions_test(s):\n",
    "    for i in range(10):\n",
    "        for j in range(10):\n",
    "            if top_10_test[i] in s.keys() and top_10_test[j] in s.keys():\n",
    "                brand_comentions_test[i][j]+=1\n",
    "temp = df_test['word_counts'].apply(count_comentions_test)"
   ]
  },
  {
   "cell_type": "code",
   "execution_count": 46,
   "metadata": {
    "scrolled": true
   },
   "outputs": [
    {
     "data": {
      "text/html": [
       "<div>\n",
       "<style scoped>\n",
       "    .dataframe tbody tr th:only-of-type {\n",
       "        vertical-align: middle;\n",
       "    }\n",
       "\n",
       "    .dataframe tbody tr th {\n",
       "        vertical-align: top;\n",
       "    }\n",
       "\n",
       "    .dataframe thead th {\n",
       "        text-align: right;\n",
       "    }\n",
       "</style>\n",
       "<table border=\"1\" class=\"dataframe\">\n",
       "  <thead>\n",
       "    <tr style=\"text-align: right;\">\n",
       "      <th></th>\n",
       "      <th>bmw</th>\n",
       "      <th>acura</th>\n",
       "      <th>honda</th>\n",
       "      <th>audi</th>\n",
       "      <th>infiniti</th>\n",
       "      <th>toyota</th>\n",
       "      <th>nissan</th>\n",
       "      <th>subaru</th>\n",
       "      <th>volkswagen</th>\n",
       "      <th>mercedes</th>\n",
       "    </tr>\n",
       "  </thead>\n",
       "  <tbody>\n",
       "    <tr>\n",
       "      <td>bmw</td>\n",
       "      <td>1385.0</td>\n",
       "      <td>250.0</td>\n",
       "      <td>157.0</td>\n",
       "      <td>229.0</td>\n",
       "      <td>230.0</td>\n",
       "      <td>128.0</td>\n",
       "      <td>104.0</td>\n",
       "      <td>73.0</td>\n",
       "      <td>92.0</td>\n",
       "      <td>95.0</td>\n",
       "    </tr>\n",
       "    <tr>\n",
       "      <td>acura</td>\n",
       "      <td>250.0</td>\n",
       "      <td>588.0</td>\n",
       "      <td>144.0</td>\n",
       "      <td>119.0</td>\n",
       "      <td>149.0</td>\n",
       "      <td>66.0</td>\n",
       "      <td>82.0</td>\n",
       "      <td>53.0</td>\n",
       "      <td>40.0</td>\n",
       "      <td>47.0</td>\n",
       "    </tr>\n",
       "    <tr>\n",
       "      <td>honda</td>\n",
       "      <td>157.0</td>\n",
       "      <td>144.0</td>\n",
       "      <td>461.0</td>\n",
       "      <td>54.0</td>\n",
       "      <td>55.0</td>\n",
       "      <td>119.0</td>\n",
       "      <td>109.0</td>\n",
       "      <td>30.0</td>\n",
       "      <td>40.0</td>\n",
       "      <td>28.0</td>\n",
       "    </tr>\n",
       "    <tr>\n",
       "      <td>audi</td>\n",
       "      <td>229.0</td>\n",
       "      <td>119.0</td>\n",
       "      <td>54.0</td>\n",
       "      <td>460.0</td>\n",
       "      <td>97.0</td>\n",
       "      <td>37.0</td>\n",
       "      <td>42.0</td>\n",
       "      <td>35.0</td>\n",
       "      <td>90.0</td>\n",
       "      <td>55.0</td>\n",
       "    </tr>\n",
       "    <tr>\n",
       "      <td>infiniti</td>\n",
       "      <td>230.0</td>\n",
       "      <td>149.0</td>\n",
       "      <td>55.0</td>\n",
       "      <td>97.0</td>\n",
       "      <td>417.0</td>\n",
       "      <td>33.0</td>\n",
       "      <td>73.0</td>\n",
       "      <td>31.0</td>\n",
       "      <td>33.0</td>\n",
       "      <td>44.0</td>\n",
       "    </tr>\n",
       "    <tr>\n",
       "      <td>toyota</td>\n",
       "      <td>128.0</td>\n",
       "      <td>66.0</td>\n",
       "      <td>119.0</td>\n",
       "      <td>37.0</td>\n",
       "      <td>33.0</td>\n",
       "      <td>330.0</td>\n",
       "      <td>77.0</td>\n",
       "      <td>18.0</td>\n",
       "      <td>28.0</td>\n",
       "      <td>22.0</td>\n",
       "    </tr>\n",
       "    <tr>\n",
       "      <td>nissan</td>\n",
       "      <td>104.0</td>\n",
       "      <td>82.0</td>\n",
       "      <td>109.0</td>\n",
       "      <td>42.0</td>\n",
       "      <td>73.0</td>\n",
       "      <td>77.0</td>\n",
       "      <td>316.0</td>\n",
       "      <td>23.0</td>\n",
       "      <td>31.0</td>\n",
       "      <td>19.0</td>\n",
       "    </tr>\n",
       "    <tr>\n",
       "      <td>subaru</td>\n",
       "      <td>73.0</td>\n",
       "      <td>53.0</td>\n",
       "      <td>30.0</td>\n",
       "      <td>35.0</td>\n",
       "      <td>31.0</td>\n",
       "      <td>18.0</td>\n",
       "      <td>23.0</td>\n",
       "      <td>217.0</td>\n",
       "      <td>21.0</td>\n",
       "      <td>10.0</td>\n",
       "    </tr>\n",
       "    <tr>\n",
       "      <td>volkswagen</td>\n",
       "      <td>92.0</td>\n",
       "      <td>40.0</td>\n",
       "      <td>40.0</td>\n",
       "      <td>90.0</td>\n",
       "      <td>33.0</td>\n",
       "      <td>28.0</td>\n",
       "      <td>31.0</td>\n",
       "      <td>21.0</td>\n",
       "      <td>200.0</td>\n",
       "      <td>26.0</td>\n",
       "    </tr>\n",
       "    <tr>\n",
       "      <td>mercedes</td>\n",
       "      <td>95.0</td>\n",
       "      <td>47.0</td>\n",
       "      <td>28.0</td>\n",
       "      <td>55.0</td>\n",
       "      <td>44.0</td>\n",
       "      <td>22.0</td>\n",
       "      <td>19.0</td>\n",
       "      <td>10.0</td>\n",
       "      <td>26.0</td>\n",
       "      <td>178.0</td>\n",
       "    </tr>\n",
       "  </tbody>\n",
       "</table>\n",
       "</div>"
      ],
      "text/plain": [
       "               bmw  acura  honda   audi  infiniti  toyota  nissan  subaru  \\\n",
       "bmw         1385.0  250.0  157.0  229.0     230.0   128.0   104.0    73.0   \n",
       "acura        250.0  588.0  144.0  119.0     149.0    66.0    82.0    53.0   \n",
       "honda        157.0  144.0  461.0   54.0      55.0   119.0   109.0    30.0   \n",
       "audi         229.0  119.0   54.0  460.0      97.0    37.0    42.0    35.0   \n",
       "infiniti     230.0  149.0   55.0   97.0     417.0    33.0    73.0    31.0   \n",
       "toyota       128.0   66.0  119.0   37.0      33.0   330.0    77.0    18.0   \n",
       "nissan       104.0   82.0  109.0   42.0      73.0    77.0   316.0    23.0   \n",
       "subaru        73.0   53.0   30.0   35.0      31.0    18.0    23.0   217.0   \n",
       "volkswagen    92.0   40.0   40.0   90.0      33.0    28.0    31.0    21.0   \n",
       "mercedes      95.0   47.0   28.0   55.0      44.0    22.0    19.0    10.0   \n",
       "\n",
       "            volkswagen  mercedes  \n",
       "bmw               92.0      95.0  \n",
       "acura             40.0      47.0  \n",
       "honda             40.0      28.0  \n",
       "audi              90.0      55.0  \n",
       "infiniti          33.0      44.0  \n",
       "toyota            28.0      22.0  \n",
       "nissan            31.0      19.0  \n",
       "subaru            21.0      10.0  \n",
       "volkswagen       200.0      26.0  \n",
       "mercedes          26.0     178.0  "
      ]
     },
     "execution_count": 46,
     "metadata": {},
     "output_type": "execute_result"
    }
   ],
   "source": [
    "df_brand_comentions = pd.DataFrame(brand_comentions, columns=top_10, index = top_10)\n",
    "df_brand_comentions"
   ]
  },
  {
   "cell_type": "code",
   "execution_count": 34,
   "metadata": {
    "scrolled": true
   },
   "outputs": [
    {
     "name": "stdout",
     "output_type": "stream",
     "text": [
      "['bmw', 'honda', 'audi', 'toyota', 'chevrolet', 'subaru', 'acura', 'mercedes', 'volkswagen', 'volvo']\n",
      "[[9. 0. 3. 0. 1. 0. 1. 1. 1. 0.]\n",
      " [0. 6. 0. 4. 2. 1. 0. 0. 0. 0.]\n",
      " [3. 0. 5. 0. 0. 0. 0. 0. 1. 0.]\n",
      " [0. 4. 0. 5. 1. 0. 0. 0. 0. 0.]\n",
      " [1. 2. 0. 1. 4. 1. 0. 0. 0. 0.]\n",
      " [0. 1. 0. 0. 1. 3. 0. 0. 0. 0.]\n",
      " [1. 0. 0. 0. 0. 0. 1. 0. 0. 0.]\n",
      " [1. 0. 0. 0. 0. 0. 0. 1. 0. 0.]\n",
      " [1. 0. 1. 0. 0. 0. 0. 0. 1. 0.]\n",
      " [0. 0. 0. 0. 0. 0. 0. 0. 0. 1.]]\n"
     ]
    }
   ],
   "source": [
    "#TEST\n",
    "print(top_10_test)\n",
    "print(brand_comentions_test)"
   ]
  },
  {
   "cell_type": "code",
   "execution_count": 35,
   "metadata": {
    "scrolled": true
   },
   "outputs": [
    {
     "data": {
      "text/html": [
       "<div>\n",
       "<style scoped>\n",
       "    .dataframe tbody tr th:only-of-type {\n",
       "        vertical-align: middle;\n",
       "    }\n",
       "\n",
       "    .dataframe tbody tr th {\n",
       "        vertical-align: top;\n",
       "    }\n",
       "\n",
       "    .dataframe thead th {\n",
       "        text-align: right;\n",
       "    }\n",
       "</style>\n",
       "<table border=\"1\" class=\"dataframe\">\n",
       "  <thead>\n",
       "    <tr style=\"text-align: right;\">\n",
       "      <th></th>\n",
       "      <th>bmw</th>\n",
       "      <th>acura</th>\n",
       "      <th>honda</th>\n",
       "      <th>audi</th>\n",
       "      <th>infiniti</th>\n",
       "      <th>toyota</th>\n",
       "      <th>nissan</th>\n",
       "      <th>subaru</th>\n",
       "      <th>volkswagen</th>\n",
       "      <th>mercedes</th>\n",
       "    </tr>\n",
       "  </thead>\n",
       "  <tbody>\n",
       "    <tr>\n",
       "      <td>bmw</td>\n",
       "      <td>3.636101</td>\n",
       "      <td>1.545961</td>\n",
       "      <td>1.238325</td>\n",
       "      <td>1.810146</td>\n",
       "      <td>2.005523</td>\n",
       "      <td>1.410366</td>\n",
       "      <td>1.196691</td>\n",
       "      <td>1.223205</td>\n",
       "      <td>1.672606</td>\n",
       "      <td>1.940616</td>\n",
       "    </tr>\n",
       "    <tr>\n",
       "      <td>acura</td>\n",
       "      <td>1.545961</td>\n",
       "      <td>8.564626</td>\n",
       "      <td>2.675284</td>\n",
       "      <td>2.215631</td>\n",
       "      <td>3.060262</td>\n",
       "      <td>1.712925</td>\n",
       "      <td>2.222466</td>\n",
       "      <td>2.091821</td>\n",
       "      <td>1.712925</td>\n",
       "      <td>2.261446</td>\n",
       "    </tr>\n",
       "    <tr>\n",
       "      <td>honda</td>\n",
       "      <td>1.238325</td>\n",
       "      <td>2.675284</td>\n",
       "      <td>10.924078</td>\n",
       "      <td>1.282392</td>\n",
       "      <td>1.440826</td>\n",
       "      <td>3.939289</td>\n",
       "      <td>3.768116</td>\n",
       "      <td>1.510241</td>\n",
       "      <td>2.184816</td>\n",
       "      <td>1.718394</td>\n",
       "    </tr>\n",
       "    <tr>\n",
       "      <td>audi</td>\n",
       "      <td>1.810146</td>\n",
       "      <td>2.215631</td>\n",
       "      <td>1.282392</td>\n",
       "      <td>10.947826</td>\n",
       "      <td>2.546617</td>\n",
       "      <td>1.227484</td>\n",
       "      <td>1.455091</td>\n",
       "      <td>1.765778</td>\n",
       "      <td>4.926522</td>\n",
       "      <td>3.382755</td>\n",
       "    </tr>\n",
       "    <tr>\n",
       "      <td>infiniti</td>\n",
       "      <td>2.005523</td>\n",
       "      <td>3.060262</td>\n",
       "      <td>1.440826</td>\n",
       "      <td>2.546617</td>\n",
       "      <td>12.076739</td>\n",
       "      <td>1.207674</td>\n",
       "      <td>2.789879</td>\n",
       "      <td>1.725248</td>\n",
       "      <td>1.992662</td>\n",
       "      <td>2.985261</td>\n",
       "    </tr>\n",
       "    <tr>\n",
       "      <td>toyota</td>\n",
       "      <td>1.410366</td>\n",
       "      <td>1.712925</td>\n",
       "      <td>3.939289</td>\n",
       "      <td>1.227484</td>\n",
       "      <td>1.207674</td>\n",
       "      <td>15.260606</td>\n",
       "      <td>3.718565</td>\n",
       "      <td>1.265857</td>\n",
       "      <td>2.136485</td>\n",
       "      <td>1.886142</td>\n",
       "    </tr>\n",
       "    <tr>\n",
       "      <td>nissan</td>\n",
       "      <td>1.196691</td>\n",
       "      <td>2.222466</td>\n",
       "      <td>3.768116</td>\n",
       "      <td>1.455091</td>\n",
       "      <td>2.789879</td>\n",
       "      <td>3.718565</td>\n",
       "      <td>15.936709</td>\n",
       "      <td>1.689144</td>\n",
       "      <td>2.470190</td>\n",
       "      <td>1.701109</td>\n",
       "    </tr>\n",
       "    <tr>\n",
       "      <td>subaru</td>\n",
       "      <td>1.223205</td>\n",
       "      <td>2.091821</td>\n",
       "      <td>1.510241</td>\n",
       "      <td>1.765778</td>\n",
       "      <td>1.725248</td>\n",
       "      <td>1.265857</td>\n",
       "      <td>1.689144</td>\n",
       "      <td>23.207373</td>\n",
       "      <td>2.436774</td>\n",
       "      <td>1.303785</td>\n",
       "    </tr>\n",
       "    <tr>\n",
       "      <td>volkswagen</td>\n",
       "      <td>1.672606</td>\n",
       "      <td>1.712925</td>\n",
       "      <td>2.184816</td>\n",
       "      <td>4.926522</td>\n",
       "      <td>1.992662</td>\n",
       "      <td>2.136485</td>\n",
       "      <td>2.470190</td>\n",
       "      <td>2.436774</td>\n",
       "      <td>25.180000</td>\n",
       "      <td>3.677978</td>\n",
       "    </tr>\n",
       "    <tr>\n",
       "      <td>mercedes</td>\n",
       "      <td>1.940616</td>\n",
       "      <td>2.261446</td>\n",
       "      <td>1.718394</td>\n",
       "      <td>3.382755</td>\n",
       "      <td>2.985261</td>\n",
       "      <td>1.886142</td>\n",
       "      <td>1.701109</td>\n",
       "      <td>1.303785</td>\n",
       "      <td>3.677978</td>\n",
       "      <td>28.292135</td>\n",
       "    </tr>\n",
       "  </tbody>\n",
       "</table>\n",
       "</div>"
      ],
      "text/plain": [
       "                 bmw     acura      honda       audi   infiniti     toyota  \\\n",
       "bmw         3.636101  1.545961   1.238325   1.810146   2.005523   1.410366   \n",
       "acura       1.545961  8.564626   2.675284   2.215631   3.060262   1.712925   \n",
       "honda       1.238325  2.675284  10.924078   1.282392   1.440826   3.939289   \n",
       "audi        1.810146  2.215631   1.282392  10.947826   2.546617   1.227484   \n",
       "infiniti    2.005523  3.060262   1.440826   2.546617  12.076739   1.207674   \n",
       "toyota      1.410366  1.712925   3.939289   1.227484   1.207674  15.260606   \n",
       "nissan      1.196691  2.222466   3.768116   1.455091   2.789879   3.718565   \n",
       "subaru      1.223205  2.091821   1.510241   1.765778   1.725248   1.265857   \n",
       "volkswagen  1.672606  1.712925   2.184816   4.926522   1.992662   2.136485   \n",
       "mercedes    1.940616  2.261446   1.718394   3.382755   2.985261   1.886142   \n",
       "\n",
       "               nissan     subaru  volkswagen   mercedes  \n",
       "bmw          1.196691   1.223205    1.672606   1.940616  \n",
       "acura        2.222466   2.091821    1.712925   2.261446  \n",
       "honda        3.768116   1.510241    2.184816   1.718394  \n",
       "audi         1.455091   1.765778    4.926522   3.382755  \n",
       "infiniti     2.789879   1.725248    1.992662   2.985261  \n",
       "toyota       3.718565   1.265857    2.136485   1.886142  \n",
       "nissan      15.936709   1.689144    2.470190   1.701109  \n",
       "subaru       1.689144  23.207373    2.436774   1.303785  \n",
       "volkswagen   2.470190   2.436774   25.180000   3.677978  \n",
       "mercedes     1.701109   1.303785    3.677978  28.292135  "
      ]
     },
     "execution_count": 35,
     "metadata": {},
     "output_type": "execute_result"
    }
   ],
   "source": [
    "lifts = np.zeros((10, 10))\n",
    "N = len(df)\n",
    "for i in range(10):\n",
    "    count1 = top_10_num[i]\n",
    "    for j in range(10):\n",
    "        count2 = top_10_num[j]\n",
    "        denom = count1 * count2\n",
    "        numer = brand_comentions[i][j]\n",
    "        lifts[i][j] = (numer/denom) * N\n",
    "np.set_printoptions(precision = 1)\n",
    "df_lifts = pd.DataFrame(lifts, columns=top_10, index = top_10)\n",
    "df_lifts"
   ]
  },
  {
   "cell_type": "markdown",
   "metadata": {},
   "source": [
    "## Make MDS Plot"
   ]
  },
  {
   "cell_type": "code",
   "execution_count": 36,
   "metadata": {
    "scrolled": true
   },
   "outputs": [
    {
     "data": {
      "text/html": [
       "<div>\n",
       "<style scoped>\n",
       "    .dataframe tbody tr th:only-of-type {\n",
       "        vertical-align: middle;\n",
       "    }\n",
       "\n",
       "    .dataframe tbody tr th {\n",
       "        vertical-align: top;\n",
       "    }\n",
       "\n",
       "    .dataframe thead th {\n",
       "        text-align: right;\n",
       "    }\n",
       "</style>\n",
       "<table border=\"1\" class=\"dataframe\">\n",
       "  <thead>\n",
       "    <tr style=\"text-align: right;\">\n",
       "      <th></th>\n",
       "      <th>bmw</th>\n",
       "      <th>acura</th>\n",
       "      <th>honda</th>\n",
       "      <th>audi</th>\n",
       "      <th>infiniti</th>\n",
       "      <th>toyota</th>\n",
       "      <th>nissan</th>\n",
       "      <th>subaru</th>\n",
       "      <th>volkswagen</th>\n",
       "      <th>mercedes</th>\n",
       "    </tr>\n",
       "  </thead>\n",
       "  <tbody>\n",
       "    <tr>\n",
       "      <td>bmw</td>\n",
       "      <td>0.000000</td>\n",
       "      <td>0.646847</td>\n",
       "      <td>0.807542</td>\n",
       "      <td>0.552442</td>\n",
       "      <td>0.498623</td>\n",
       "      <td>0.709036</td>\n",
       "      <td>0.835637</td>\n",
       "      <td>0.817525</td>\n",
       "      <td>0.597869</td>\n",
       "      <td>0.515300</td>\n",
       "    </tr>\n",
       "    <tr>\n",
       "      <td>acura</td>\n",
       "      <td>0.646847</td>\n",
       "      <td>0.000000</td>\n",
       "      <td>0.373792</td>\n",
       "      <td>0.451339</td>\n",
       "      <td>0.326769</td>\n",
       "      <td>0.583797</td>\n",
       "      <td>0.449951</td>\n",
       "      <td>0.478052</td>\n",
       "      <td>0.583797</td>\n",
       "      <td>0.442195</td>\n",
       "    </tr>\n",
       "    <tr>\n",
       "      <td>honda</td>\n",
       "      <td>0.807542</td>\n",
       "      <td>0.373792</td>\n",
       "      <td>0.000000</td>\n",
       "      <td>0.779793</td>\n",
       "      <td>0.694047</td>\n",
       "      <td>0.253853</td>\n",
       "      <td>0.265385</td>\n",
       "      <td>0.662146</td>\n",
       "      <td>0.457705</td>\n",
       "      <td>0.581939</td>\n",
       "    </tr>\n",
       "    <tr>\n",
       "      <td>audi</td>\n",
       "      <td>0.552442</td>\n",
       "      <td>0.451339</td>\n",
       "      <td>0.779793</td>\n",
       "      <td>0.000000</td>\n",
       "      <td>0.392678</td>\n",
       "      <td>0.814675</td>\n",
       "      <td>0.687242</td>\n",
       "      <td>0.566322</td>\n",
       "      <td>0.202983</td>\n",
       "      <td>0.295617</td>\n",
       "    </tr>\n",
       "    <tr>\n",
       "      <td>infiniti</td>\n",
       "      <td>0.498623</td>\n",
       "      <td>0.326769</td>\n",
       "      <td>0.694047</td>\n",
       "      <td>0.392678</td>\n",
       "      <td>0.000000</td>\n",
       "      <td>0.828038</td>\n",
       "      <td>0.358438</td>\n",
       "      <td>0.579627</td>\n",
       "      <td>0.501841</td>\n",
       "      <td>0.334979</td>\n",
       "    </tr>\n",
       "    <tr>\n",
       "      <td>toyota</td>\n",
       "      <td>0.709036</td>\n",
       "      <td>0.583797</td>\n",
       "      <td>0.253853</td>\n",
       "      <td>0.814675</td>\n",
       "      <td>0.828038</td>\n",
       "      <td>0.000000</td>\n",
       "      <td>0.268921</td>\n",
       "      <td>0.789979</td>\n",
       "      <td>0.468059</td>\n",
       "      <td>0.530183</td>\n",
       "    </tr>\n",
       "    <tr>\n",
       "      <td>nissan</td>\n",
       "      <td>0.835637</td>\n",
       "      <td>0.449951</td>\n",
       "      <td>0.265385</td>\n",
       "      <td>0.687242</td>\n",
       "      <td>0.358438</td>\n",
       "      <td>0.268921</td>\n",
       "      <td>0.000000</td>\n",
       "      <td>0.592016</td>\n",
       "      <td>0.404827</td>\n",
       "      <td>0.587852</td>\n",
       "    </tr>\n",
       "    <tr>\n",
       "      <td>subaru</td>\n",
       "      <td>0.817525</td>\n",
       "      <td>0.478052</td>\n",
       "      <td>0.662146</td>\n",
       "      <td>0.566322</td>\n",
       "      <td>0.579627</td>\n",
       "      <td>0.789979</td>\n",
       "      <td>0.592016</td>\n",
       "      <td>0.000000</td>\n",
       "      <td>0.410379</td>\n",
       "      <td>0.766998</td>\n",
       "    </tr>\n",
       "    <tr>\n",
       "      <td>volkswagen</td>\n",
       "      <td>0.597869</td>\n",
       "      <td>0.583797</td>\n",
       "      <td>0.457705</td>\n",
       "      <td>0.202983</td>\n",
       "      <td>0.501841</td>\n",
       "      <td>0.468059</td>\n",
       "      <td>0.404827</td>\n",
       "      <td>0.410379</td>\n",
       "      <td>0.000000</td>\n",
       "      <td>0.271889</td>\n",
       "    </tr>\n",
       "    <tr>\n",
       "      <td>mercedes</td>\n",
       "      <td>0.515300</td>\n",
       "      <td>0.442195</td>\n",
       "      <td>0.581939</td>\n",
       "      <td>0.295617</td>\n",
       "      <td>0.334979</td>\n",
       "      <td>0.530183</td>\n",
       "      <td>0.587852</td>\n",
       "      <td>0.766998</td>\n",
       "      <td>0.271889</td>\n",
       "      <td>0.000000</td>\n",
       "    </tr>\n",
       "  </tbody>\n",
       "</table>\n",
       "</div>"
      ],
      "text/plain": [
       "                 bmw     acura     honda      audi  infiniti    toyota  \\\n",
       "bmw         0.000000  0.646847  0.807542  0.552442  0.498623  0.709036   \n",
       "acura       0.646847  0.000000  0.373792  0.451339  0.326769  0.583797   \n",
       "honda       0.807542  0.373792  0.000000  0.779793  0.694047  0.253853   \n",
       "audi        0.552442  0.451339  0.779793  0.000000  0.392678  0.814675   \n",
       "infiniti    0.498623  0.326769  0.694047  0.392678  0.000000  0.828038   \n",
       "toyota      0.709036  0.583797  0.253853  0.814675  0.828038  0.000000   \n",
       "nissan      0.835637  0.449951  0.265385  0.687242  0.358438  0.268921   \n",
       "subaru      0.817525  0.478052  0.662146  0.566322  0.579627  0.789979   \n",
       "volkswagen  0.597869  0.583797  0.457705  0.202983  0.501841  0.468059   \n",
       "mercedes    0.515300  0.442195  0.581939  0.295617  0.334979  0.530183   \n",
       "\n",
       "              nissan    subaru  volkswagen  mercedes  \n",
       "bmw         0.835637  0.817525    0.597869  0.515300  \n",
       "acura       0.449951  0.478052    0.583797  0.442195  \n",
       "honda       0.265385  0.662146    0.457705  0.581939  \n",
       "audi        0.687242  0.566322    0.202983  0.295617  \n",
       "infiniti    0.358438  0.579627    0.501841  0.334979  \n",
       "toyota      0.268921  0.789979    0.468059  0.530183  \n",
       "nissan      0.000000  0.592016    0.404827  0.587852  \n",
       "subaru      0.592016  0.000000    0.410379  0.766998  \n",
       "volkswagen  0.404827  0.410379    0.000000  0.271889  \n",
       "mercedes    0.587852  0.766998    0.271889  0.000000  "
      ]
     },
     "execution_count": 36,
     "metadata": {},
     "output_type": "execute_result"
    }
   ],
   "source": [
    "dissimilarity = lifts\n",
    "for i in range(10):\n",
    "    for j in range(10):\n",
    "        if i == j:\n",
    "            dissimilarity[i][j]=0\n",
    "        else:\n",
    "            dissimilarity[i][j] = 1/lifts[i][j]\n",
    "        \n",
    "df_dissimilarity = pd.DataFrame(dissimilarity, columns=top_10, index = top_10)\n",
    "df_dissimilarity"
   ]
  },
  {
   "cell_type": "code",
   "execution_count": 44,
   "metadata": {},
   "outputs": [
    {
     "name": "stderr",
     "output_type": "stream",
     "text": [
      "C:\\Users\\kevin\\Anaconda3\\lib\\site-packages\\sklearn\\manifold\\mds.py:421: UserWarning: The MDS API has changed. ``fit`` now constructs an dissimilarity matrix from data. To use a custom dissimilarity matrix, set ``dissimilarity='precomputed'``.\n",
      "  warnings.warn(\"The MDS API has changed. ``fit`` now constructs an\"\n"
     ]
    },
    {
     "data": {
      "text/plain": [
       "<Figure size 640x640 with 0 Axes>"
      ]
     },
     "metadata": {},
     "output_type": "display_data"
    },
    {
     "data": {
      "image/png": "[encoded data removed]",
      "text/plain": [
       "<Figure size 432x288 with 1 Axes>"
      ]
     },
     "metadata": {
      "needs_background": "light"
     },
     "output_type": "display_data"
    },
    {
     "data": {
      "text/plain": [
       "<Figure size 720x720 with 0 Axes>"
      ]
     },
     "metadata": {},
     "output_type": "display_data"
    }
   ],
   "source": [
    "from sklearn.manifold import MDS\n",
    "from matplotlib.pyplot import figure\n",
    "\n",
    "figure(num=None, figsize=(8, 8), dpi=80, facecolor='w', edgecolor='k')\n",
    "mds = MDS(dissimilarity='euclidean')\n",
    "coords = mds.fit_transform(dissimilarity)\n",
    "\n",
    "x,y = coords.T\n",
    "\n",
    "fig, ax=plt.subplots()\n",
    "plt.figure(figsize=(10,10))\n",
    "ax.scatter(x,y)\n",
    "\n",
    "for i, txt in enumerate(top_10):\n",
    "    ax.annotate(txt, (x[i],y[i]))"
   ]
  },
  {
   "cell_type": "code",
   "execution_count": null,
   "metadata": {},
   "outputs": [],
   "source": [
    "#TEST\n",
    "lift_test = np.zeros((10, 10))\n",
    "N = 22\n",
    "for i in range(10):\n",
    "    count1 = top_10_num_test[i]\n",
    "    for j in range(10):\n",
    "        count2 = top_10_num_test[j]\n",
    "        denom = count1 * count2\n",
    "        numer = brand_comentions_test[i][j]\n",
    "        lift_test[i][j] = (numer/denom) * N\n",
    "np.set_printoptions(precision = 2)\n",
    "print(lift_test)"
   ]
  },
  {
   "cell_type": "markdown",
   "metadata": {},
   "source": [
    "# TASK B"
   ]
  },
  {
   "cell_type": "code",
   "execution_count": null,
   "metadata": {},
   "outputs": [],
   "source": []
  },
  {
   "cell_type": "markdown",
   "metadata": {},
   "source": [
    "# TASK C"
   ]
  },
  {
   "cell_type": "code",
   "execution_count": null,
   "metadata": {},
   "outputs": [],
   "source": [
    "attribute_dict = { \n",
    "    'performance': ['drive', 'engine', 'sport', 'driving', 'performance', 'power', 'spped', \n",
    "                    'fast', 'faster', 'sporty', 'horsepower', 'powerful'],\n",
    "    \n",
    "    'fuel_efficiency': ['mile', 'mileage', 'oil', 'diesel', 'mpg', 'gas', 'fuel'],\n",
    "    \n",
    "    'look': ['look', 'nice', 'looking', 'design', 'nicer', 'style', 'attractive', 'designed', 'looked'],\n",
    "    \n",
    "    'luxury': ['great', 'brand', 'luxury', 'best', 'premium'],\n",
    "    \n",
    "    'reliability': ['issue', 'problem', 'recall', 'trouble', 'concerned', 'suspension', 'reliable',\n",
    "                   'service', 'warranty', 'durability', 'quality'],\n",
    "    \n",
    "    'price': ['money', 'msrp', 'price', 'sale', 'offer', 'discount', 'bargain', 'grand', 'expensive',\n",
    "             'cheap', 'cheaper', 'incentive', 'worth'],\n",
    "    \n",
    "    'size': ['big', 'huge', 'large', 'size', 'weight', 'bigger', 'sticker', 'roof',\n",
    "            'little', 'small', 'light', 'smaller', 'biggest'],\n",
    "    'interior': ['seat', 'interior', 'leather', 'steering', 'inside', 'radio', 'noise', 'quiet'],\n",
    "    \n",
    "    'experience': ['experience', 'special', 'interesting', 'impressive', 'surprised', 'amazing', \n",
    "                   'fun', 'happy', 'enthusiast'],\n",
    "    \n",
    "    'safety': ['safety', 'life', 'safe']}"
   ]
  }
 ],
 "metadata": {
  "kernelspec": {
   "display_name": "Python 3",
   "language": "python",
   "name": "python3"
  },
  "language_info": {
   "codemirror_mode": {
    "name": "ipython",
    "version": 3
   },
   "file_extension": ".py",
   "mimetype": "text/x-python",
   "name": "python",
   "nbconvert_exporter": "python",
   "pygments_lexer": "ipython3",
   "version": "3.7.4"
  }
 },
 "nbformat": 4,
 "nbformat_minor": 2
}
